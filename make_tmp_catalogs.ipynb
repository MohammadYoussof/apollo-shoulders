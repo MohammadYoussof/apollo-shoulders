{
 "cells": [
  {
   "cell_type": "code",
   "execution_count": 1,
   "metadata": {},
   "outputs": [],
   "source": [
    "#### %pylab inline\n",
    "# from scipy import interpolate, signal\n",
    "# import time \n",
    "from obspy.core import read, Stream\n",
    "from obspy.core.event import Catalog\n",
    "import numpy as np\n",
    "import matplotlib.pylab as plt\n",
    "import os\n",
    "import glob\n",
    "from obspy.core.utcdatetime import UTCDateTime\n",
    "# import urllib.request\n",
    "from obspy import read_events, read_inventory\n",
    "from obspy.signal import PPSD\n",
    "# from obspy.io.jaxa_moon.core import _read_jaxa_moon\n",
    "from statistics import mode\n",
    "import io\n",
    "import pandas as pd\n",
    "\n",
    "plt.style.use('ggplot')\n",
    "plt.rcParams['figure.figsize'] = 10, 4\n",
    "plt.rcParams['lines.linewidth'] = 0.5\n",
    "plt.rcParams['font.size'] = 12\n",
    "SECONDS_PER_DAY=3600.*24\n"
   ]
  },
  {
   "cell_type": "code",
   "execution_count": 2,
   "metadata": {},
   "outputs": [
    {
     "name": "stdout",
     "output_type": "stream",
     "text": [
      "Starting to read the catalog ...\n",
      "done\n",
      "13058\n"
     ]
    }
   ],
   "source": [
    "# read event catalog\n",
    "# all of these take a while to run \n",
    "\n",
    "\n",
    "from obspy import read_events\n",
    "\n",
    "xml_file = 'files/LunarCatalog_Nakamura_1981_and_updates_v1.xml'\n",
    "print('Starting to read the catalog ...')\n",
    "cat = read_events(xml_file)\n",
    "\n",
    "\n",
    "print('done')\n",
    "print(cat.count())\n",
    "\n",
    "\n",
    "\n",
    "# cat.plot()\n"
   ]
  },
  {
   "cell_type": "code",
   "execution_count": 3,
   "metadata": {},
   "outputs": [
    {
     "name": "stdout",
     "output_type": "stream",
     "text": [
      "13058\n"
     ]
    }
   ],
   "source": [
    "print(cat.count())"
   ]
  },
  {
   "cell_type": "code",
   "execution_count": 4,
   "metadata": {},
   "outputs": [
    {
     "name": "stdout",
     "output_type": "stream",
     "text": [
      "finished\n"
     ]
    }
   ],
   "source": [
    "# make some catalogs for 1973 for each station\n",
    "\n",
    "t1 = UTCDateTime('1973-01-01')\n",
    "t2 = UTCDateTime('1973-12-31')\n",
    "    \n",
    "for station in ['S12', 'S14', 'S15', 'S16']:\n",
    "    cat_all = Catalog()\n",
    "    cat_deep = Catalog()\n",
    "    cat_shallow = Catalog()\n",
    "    cat_met = Catalog()\n",
    "    cat_impact = Catalog()\n",
    "    cat_unclassified = Catalog()\n",
    "    \n",
    "    for ev in cat: \n",
    "#         if ev.resource_id  not in ['smi:nakamura81/event/00011']:\n",
    "#             continue\n",
    "#         print(ev)\n",
    "        \n",
    "        picks = ev.picks\n",
    "        \n",
    "        picks_station = []\n",
    "        amplitudes_station = []\n",
    "\n",
    "        amplitudes = ev.amplitudes \n",
    "\n",
    "        for p in picks:   \n",
    "            if p.waveform_id.station_code == station:\n",
    "\n",
    "                if (p.time > t1 and p.time < t2):\n",
    "                    picks_station.append(p)\n",
    "                    for a in ev.amplitudes:\n",
    "                        if a.pick_id == p.resource_id:\n",
    "                            amplitudes_station.append(a)\n",
    "\n",
    "    #                 amplitude.pick_id = pick.resource_id\n",
    "#         print(len(picks_station))\n",
    "        if len(picks_station) > 0:  \n",
    "            ev_station = ev.copy()\n",
    "            ev_station.picks = picks_station\n",
    "            ev_station.amplitudes = amplitudes_station\n",
    "            if ev_station.event_type == 'earthquake':    \n",
    "                for desc in ev_station.event_descriptions:\n",
    "                    if desc.text == 'deep moonquake':\n",
    "                        cat_deep.append(ev_station)\n",
    "                    elif desc.text == 'shallow moonquake':\n",
    "                        cat_shallow.append(ev_station)\n",
    "            if ev_station.event_type == 'meteorite':\n",
    "                cat_met.append(ev_station)\n",
    "            if ev_station.event_type == 'crash':\n",
    "                cat_impact.append(ev_station)\n",
    "                \n",
    "            if ev_station.event_type == 'not reported':\n",
    "                cat_unclassified.append(ev_station)\n",
    "            cat_all.append(ev_station)\n",
    "    \n",
    "    cat_deep.write(filename='tmp_catalogs/1973_{}_deep.xml'.format(station), format='QUAKEML')            \n",
    "#     cat_shallow.write(filename='catalogs/1973_{}_shallow.xml'.format(station), format='QUAKEML') \n",
    "    cat_met.write(filename='tmp_catalogs/1973_{}_met.xml'.format(station), format='QUAKEML') \n",
    "    if len(cat_impact) > 0: \n",
    "        cat_impact.write(filename='tmp_catalogs/1973_{}_impact.xml'.format(station), format='QUAKEML') \n",
    "    if len(cat_unclassified) > 0:\n",
    "        cat_unclassified.write(filename='tmp_catalogs/1973_{}_unclassified.xml'.format(station), format='QUAKEML') \n",
    "        \n",
    "print('finished')\n"
   ]
  },
  {
   "cell_type": "code",
   "execution_count": 5,
   "metadata": {},
   "outputs": [
    {
     "name": "stdout",
     "output_type": "stream",
     "text": [
      "S12\n",
      "24\n",
      "9\n",
      "S14\n",
      "25\n",
      "6\n",
      "S15\n",
      "25\n",
      "4\n",
      "S16\n",
      "24\n",
      "2\n",
      "finished\n"
     ]
    }
   ],
   "source": [
    "# make some catalogs for all years\n",
    "\n",
    "for station in ['S12', 'S14', 'S15', 'S16']:\n",
    "\n",
    "    print(station)\n",
    "    cat_all = Catalog()\n",
    "    cat_deep = Catalog()\n",
    "    cat_shallow = Catalog()\n",
    "    cat_met = Catalog()\n",
    "    cat_impact = Catalog()\n",
    "    \n",
    "#     for ev in cat[7000:7001]:\n",
    "    for ev in cat: \n",
    "#         if ev.resource_id  not in ['smi:nakamura81/event/10500']:\n",
    "#             continue\n",
    "\n",
    "        picks = ev.picks\n",
    "        picks_station = []\n",
    "        amplitudes_station = []\n",
    "\n",
    "        amplitudes = ev.amplitudes \n",
    "\n",
    "        for p in picks:   \n",
    "            if p.waveform_id.station_code == station:\n",
    "\n",
    "#                 if (p.time > t1 and p.time < t2):\n",
    "#                     print(p)\n",
    "#                     break \n",
    "                    picks_station.append(p)\n",
    "#                     print(ev.amplitudes)\n",
    "                    for a in ev.amplitudes:\n",
    "                        if a.pick_id == p.resource_id:\n",
    "                            amplitudes_station.append(a)\n",
    "\n",
    "        if len(picks_station) > 0:  \n",
    "            ev_station = ev.copy()\n",
    "            ev_station.picks = picks_station\n",
    "            ev_station.amplitudes = amplitudes_station\n",
    "            if ev_station.event_type == 'earthquake':    \n",
    "                for desc in ev_station.event_descriptions:\n",
    "                    if desc.text == 'deep moonquake':\n",
    "                        cat_deep.append(ev_station)\n",
    "                    elif desc.text == 'shallow moonquake':\n",
    "                        cat_shallow.append(ev_station)\n",
    "            if ev_station.event_type == 'meteorite':\n",
    "                cat_met.append(ev_station)\n",
    "            if ev_station.event_type == 'crash':\n",
    "                cat_impact.append(ev_station)\n",
    "            cat_all.append(ev_station)\n",
    "           \n",
    "    print(len(cat_shallow))\n",
    "    cat_shallow.write(filename='tmp_catalogs/{}_shallow.xml'.format(station), format='QUAKEML') \n",
    "    \n",
    "    print(len(cat_impact))\n",
    "    cat_impact.write(filename='tmp_catalogs/{}_impact.xml'.format(station), format='QUAKEML') \n",
    "        \n",
    "print('finished')\n",
    "\n"
   ]
  },
  {
   "cell_type": "code",
   "execution_count": 6,
   "metadata": {},
   "outputs": [
    {
     "name": "stdout",
     "output_type": "stream",
     "text": [
      "S12\n",
      "Shallow:  8\n",
      "Deep:  867\n",
      "Meteoroid:  277\n",
      "finished\n"
     ]
    }
   ],
   "source": [
    "# make catalogs for periods of operation in the flat mode \n",
    "\n",
    "# 1974-10-16T14:02:36.073–1975-04-09T15:31:03.702\n",
    "# 1975-06-28T13:48:23.124–1977-03-27T15:41:06.247\n",
    "for station in ['S12']:\n",
    "    \n",
    "    t1 = UTCDateTime('1974-10-16T14:02:36.073Z')\n",
    "    t2 = UTCDateTime('1975-04-09T15:31:03.702')\n",
    "    t3 = UTCDateTime('1975-06-28T13:48:23.124')\n",
    "    t4 = UTCDateTime('1977-03-27T15:41:06.247')\n",
    "\n",
    "    \n",
    "    print(station)\n",
    "    cat_all = Catalog()\n",
    "    cat_deep = Catalog()\n",
    "    cat_shallow = Catalog()\n",
    "    cat_met = Catalog()\n",
    "    cat_impact = Catalog()\n",
    "    \n",
    "#     for ev in cat[7000:7001]:\n",
    "    for ev in cat: \n",
    "#         if ev.resource_id  not in ['smi:nakamura81/event/10500']:\n",
    "#             continue\n",
    "\n",
    "        \n",
    "\n",
    "        picks = ev.picks\n",
    "        picks_station = []\n",
    "        amplitudes_station = []\n",
    "\n",
    "        amplitudes = ev.amplitudes \n",
    "\n",
    "        for p in picks:   \n",
    "            if p.waveform_id.station_code == station: \n",
    "                if (p.time > t1 and p.time < t2) or (p.time > t3 and p.time < t4):\n",
    "                    picks_station.append(p)\n",
    "#                     print(ev.amplitudes)\n",
    "                    for a in ev.amplitudes:\n",
    "                        if a.pick_id == p.resource_id:\n",
    "                            amplitudes_station.append(a)\n",
    "\n",
    "        if len(picks_station) > 0:  \n",
    "            ev_station = ev.copy()\n",
    "            ev_station.picks = picks_station\n",
    "            ev_station.amplitudes = amplitudes_station\n",
    "            if ev_station.event_type == 'earthquake':    \n",
    "                for desc in ev_station.event_descriptions:\n",
    "                    if desc.text == 'deep moonquake':\n",
    "                        cat_deep.append(ev_station)\n",
    "                    elif desc.text == 'shallow moonquake':\n",
    "                        cat_shallow.append(ev_station)\n",
    "            if ev_station.event_type == 'meteorite':\n",
    "                cat_met.append(ev_station)\n",
    "            if ev_station.event_type == 'crash':\n",
    "                cat_impact.append(ev_station)\n",
    "            cat_all.append(ev_station)\n",
    "           \n",
    "\n",
    "    if len(cat_shallow) > 0:\n",
    "        cat_shallow.write(filename='tmp_catalogs/flat_{}_shallow.xml'.format(station), format='QUAKEML') \n",
    "        print('Shallow: ', len(cat_shallow))\n",
    "    if len(cat_deep) > 0:  \n",
    "        cat_deep.write(filename='tmp_catalogs/flat_{}_deep.xml'.format(station), format='QUAKEML')\n",
    "        print('Deep: ', len(cat_deep))\n",
    "    if len(cat_met) > 0:  \n",
    "        cat_met.write(filename='tmp_catalogs/flat_{}_met.xml'.format(station), format='QUAKEML') \n",
    "        print('Meteoroid: ', len(cat_met))\n",
    "    if len(cat_impact) > 0: \n",
    "        cat_impact.write(filename='tmp_catalogs/flat_{}_impact.xml'.format(station), format='QUAKEML') \n",
    "        print('Impact: ', len(cat_impact))\n",
    "#     if len(cat_unclassified) > 0:\n",
    "#         cat_unclassified.write(filename='tmp_catalogs/flat_{}_unclassified.xml'.format(station), format='QUAKEML') \n",
    "        \n",
    "print('finished')\n"
   ]
  },
  {
   "cell_type": "code",
   "execution_count": 7,
   "metadata": {},
   "outputs": [
    {
     "name": "stdout",
     "output_type": "stream",
     "text": [
      "End of Notebook\n"
     ]
    }
   ],
   "source": [
    "print('End of Notebook')"
   ]
  }
 ],
 "metadata": {
  "anaconda-cloud": {},
  "kernelspec": {
   "display_name": "Python 3",
   "language": "python",
   "name": "python3"
  },
  "language_info": {
   "codemirror_mode": {
    "name": "ipython",
    "version": 3
   },
   "file_extension": ".py",
   "mimetype": "text/x-python",
   "name": "python",
   "nbconvert_exporter": "python",
   "pygments_lexer": "ipython3",
   "version": "3.6.12"
  }
 },
 "nbformat": 4,
 "nbformat_minor": 1
}
